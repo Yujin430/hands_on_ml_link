{
 "cells": [
  {
   "cell_type": "code",
   "execution_count": 17,
   "metadata": {},
   "outputs": [],
   "source": [
    "import numpy as np\n",
    "import tensorflow as tf\n",
    "\n",
    "tf.enable_eager_execution()"
   ]
  },
  {
   "cell_type": "markdown",
   "metadata": {},
   "source": [
    "### tf.GradientTape() and gradient"
   ]
  },
  {
   "cell_type": "markdown",
   "metadata": {},
   "source": [
    "- $z = x^2 \\cdot y + y + 2$"
   ]
  },
  {
   "cell_type": "code",
   "execution_count": 21,
   "metadata": {},
   "outputs": [
    {
     "name": "stdout",
     "output_type": "stream",
     "text": [
      "tf.Tensor(42.0, shape=(), dtype=float32)\n",
      "\n",
      "tf.Tensor(24.0, shape=(), dtype=float32)\n",
      "\n",
      "tf.Tensor(10.0, shape=(), dtype=float32)\n",
      "\n"
     ]
    }
   ],
   "source": [
    "x = tf.convert_to_tensor(3.0)\n",
    "y = tf.convert_to_tensor(4.0)\n",
    "\n",
    "with tf.GradientTape() as t:\n",
    "    t.watch([x, y])\n",
    "    z = tf.multiply(tf.square(x), y) + y + 2\n",
    "    print(z, end=\"\\n\\n\")\n",
    "\n",
    "# Derivative of z with respect to the original input tensor x\n",
    "grad = t.gradient(z, [x, y])\n",
    "\n",
    "print(grad[0], end=\"\\n\\n\")\n",
    "print(grad[1], end=\"\\n\\n\")"
   ]
  },
  {
   "cell_type": "markdown",
   "metadata": {},
   "source": [
    "- $y = sigmoid(x)$"
   ]
  },
  {
   "cell_type": "code",
   "execution_count": 261,
   "metadata": {},
   "outputs": [
    {
     "data": {
      "image/png": "[encoded data removed]",
      "text/plain": [
       "<Figure size 576x288 with 1 Axes>"
      ]
     },
     "metadata": {
      "needs_background": "light"
     },
     "output_type": "display_data"
    }
   ],
   "source": [
    "from matplotlib import pyplot as plt\n",
    "\n",
    "x = tf.convert_to_tensor(np.arange(-8.0, 8.0, 0.1))\n",
    "\n",
    "with tf.GradientTape() as t:\n",
    "    t.watch(x)\n",
    "    y = tf.sigmoid(x)\n",
    "    \n",
    "grad = t.gradient(y, x)\n",
    "\n",
    "plt.figure(figsize=(8, 4))\n",
    "plt.plot(x.numpy(), y.numpy())\n",
    "plt.plot(x.numpy(), grad.numpy())\n",
    "plt.legend(['sigmoid', 'gradient'])\n",
    "plt.show()"
   ]
  },
  {
   "cell_type": "markdown",
   "metadata": {},
   "source": [
    "### Linear Model"
   ]
  },
  {
   "cell_type": "code",
   "execution_count": 343,
   "metadata": {},
   "outputs": [],
   "source": [
    "NUM_LAYERS = 2"
   ]
  },
  {
   "cell_type": "code",
   "execution_count": 352,
   "metadata": {},
   "outputs": [
    {
     "name": "stdout",
     "output_type": "stream",
     "text": [
      "75.0\n"
     ]
    }
   ],
   "source": [
    "class Model(object):\n",
    "    def __init__(self):\n",
    "        # Initialize variable to (5.0, 0.0)\n",
    "        # In practice, these should be initialized to random values.\n",
    "        self.layers = []\n",
    "        for idx in range(NUM_LAYERS):\n",
    "            self.layers.append({\n",
    "                \"W\": tf.Variable(5.0, name=\"W\"),\n",
    "                \"b\": tf.Variable(0.0, name=\"b\")                \n",
    "            })\n",
    "    \n",
    "    def __call__(self, x):\n",
    "        input_value = x\n",
    "        for idx in range(NUM_LAYERS):\n",
    "            output_value = self.layers[idx][\"W\"] * input_value + self.layers[idx][\"b\"]\n",
    "            input_value = output_value\n",
    "            \n",
    "        return output_value\n",
    "    \n",
    "model = Model()\n",
    "\n",
    "print(model(3.0).numpy())"
   ]
  },
  {
   "cell_type": "code",
   "execution_count": 353,
   "metadata": {},
   "outputs": [],
   "source": [
    "def loss(predicted_y, desired_y):\n",
    "    return tf.reduce_mean(tf.square(predicted_y - desired_y))"
   ]
  },
  {
   "cell_type": "code",
   "execution_count": 383,
   "metadata": {},
   "outputs": [],
   "source": [
    "TRUE_PARAMS = []\n",
    "for idx in range(NUM_LAYERS):\n",
    "    TRUE_PARAMS.append({\n",
    "        \"W\": 3.0, \"b\": 2.0\n",
    "    })\n",
    "\n",
    "NUM_EXAMPLES = 1000\n",
    "\n",
    "X = tf.random_normal(shape=[NUM_EXAMPLES])\n",
    "noise = tf.random_normal(shape=[NUM_EXAMPLES])\n",
    "\n",
    "input_value = X \n",
    "for idx in range(NUM_LAYERS):\n",
    "    y = TRUE_PARAMS[idx][\"W\"] * input_value + TRUE_PARAMS[idx][\"b\"] + noise\n",
    "    input_value = y"
   ]
  },
  {
   "cell_type": "code",
   "execution_count": 384,
   "metadata": {},
   "outputs": [
    {
     "data": {
      "image/png": "[encoded data removed]",
      "text/plain": [
       "<Figure size 432x288 with 1 Axes>"
      ]
     },
     "metadata": {
      "needs_background": "light"
     },
     "output_type": "display_data"
    },
    {
     "name": "stdout",
     "output_type": "stream",
     "text": [
      "Current loss: \n",
      "16.985453\n"
     ]
    }
   ],
   "source": [
    "import matplotlib.pyplot as plt\n",
    "\n",
    "plt.scatter(X, y, c='b')\n",
    "plt.scatter(X, model(X), c='r')\n",
    "plt.show()\n",
    "\n",
    "print('Current loss: '),\n",
    "print(loss(model(X), y).numpy())"
   ]
  },
  {
   "cell_type": "code",
   "execution_count": 385,
   "metadata": {},
   "outputs": [],
   "source": [
    "def train(model, X, y, learning_rate):\n",
    "    params = [model.layers[idx][\"W\"] for idx in range(NUM_LAYERS)]\n",
    "    params = params + [model.layers[idx][\"b\"] for idx in range(NUM_LAYERS)]\n",
    "    \n",
    "    with tf.GradientTape() as t:\n",
    "        t.watch(params)\n",
    "        current_loss = loss(model(X), y)\n",
    "        \n",
    "    grad_params = t.gradient(current_loss, params)\n",
    "    for idx in range(NUM_LAYERS):\n",
    "        model.layers[idx][\"W\"] = model.layers[idx][\"W\"] - learning_rate * grad_params[idx]\n",
    "        model.layers[idx][\"b\"] = model.layers[idx][\"b\"] - learning_rate * grad_params[idx + NUM_LAYERS]"
   ]
  },
  {
   "cell_type": "code",
   "execution_count": 386,
   "metadata": {},
   "outputs": [
    {
     "name": "stdout",
     "output_type": "stream",
     "text": [
      "Epoch  0: loss=328.26044\n",
      "Epoch  1: loss=46.88785\n",
      "Epoch  2: loss=33.86259\n",
      "Epoch  3: loss=26.77554\n",
      "Epoch  4: loss=22.61965\n",
      "Epoch  5: loss=20.16623\n",
      "Epoch  6: loss=18.72875\n",
      "Epoch  7: loss=17.89239\n",
      "Epoch  8: loss=17.40756\n",
      "Epoch  9: loss=17.12680\n",
      "Epoch 10: loss=16.96416\n",
      "Epoch 11: loss=16.86986\n",
      "Epoch 12: loss=16.81511\n",
      "Epoch 13: loss=16.78331\n",
      "Epoch 14: loss=16.76481\n",
      "Epoch 15: loss=16.75405\n",
      "Epoch 16: loss=16.74779\n",
      "Epoch 17: loss=16.74414\n",
      "Epoch 18: loss=16.74201\n",
      "Epoch 19: loss=16.74078\n",
      "Epoch 20: loss=16.74006\n",
      "Epoch 21: loss=16.73964\n",
      "Epoch 22: loss=16.73940\n",
      "Epoch 23: loss=16.73925\n",
      "Epoch 24: loss=16.73917\n",
      "Epoch 25: loss=16.73912\n",
      "Epoch 26: loss=16.73909\n",
      "Epoch 27: loss=16.73908\n",
      "Epoch 28: loss=16.73907\n",
      "Epoch 29: loss=16.73906\n"
     ]
    },
    {
     "data": {
      "image/png": "[encoded data removed]",
      "text/plain": [
       "<Figure size 432x288 with 2 Axes>"
      ]
     },
     "metadata": {
      "needs_background": "light"
     },
     "output_type": "display_data"
    }
   ],
   "source": [
    "# Collect the history of W-values and b-values to plot later\n",
    "model = Model()\n",
    "\n",
    "Ws, bs = [], []\n",
    "for idx in range(NUM_LAYERS):\n",
    "    Ws.append([])\n",
    "    bs.append([])\n",
    "    \n",
    "epochs = range(30)\n",
    "for epoch in epochs:\n",
    "    for idx in range(NUM_LAYERS):\n",
    "        Ws[idx].append(model.layers[idx][\"W\"].numpy())\n",
    "        bs[idx].append(model.layers[idx][\"b\"].numpy())\n",
    "    current_loss = loss(model(X), y)\n",
    "    \n",
    "    train(model, X, y, learning_rate=0.01)\n",
    "    print('Epoch {0:2d}: loss={1:.5f}'.format(epoch, current_loss))\n",
    "\n",
    "# Let's plot it all\n",
    "f, ax = plt.subplots(1, NUM_LAYERS)\n",
    "for idx in range(NUM_LAYERS):\n",
    "    ax[idx].plot(epochs, Ws[idx], 'r', epochs, bs[idx], 'b')\n",
    "    ax[idx].plot(\n",
    "        epochs, [TRUE_PARAMS[idx][\"W\"] for _ in epochs], 'r--', \n",
    "        epochs, [TRUE_PARAMS[idx][\"b\"] for _ in epochs], 'b--'\n",
    "    )\n",
    "    ax[idx].legend(['W'+str(idx), 'b'+str(idx), 'TRUE W'+str(idx), 'TRUE b'+str(idx)])\n",
    "    ax[idx].set_ylim(0, 10)\n",
    "\n",
    "f.show()"
   ]
  },
  {
   "cell_type": "code",
   "execution_count": null,
   "metadata": {},
   "outputs": [],
   "source": []
  }
 ],
 "metadata": {
  "kernelspec": {
   "display_name": "Python 3",
   "language": "python",
   "name": "python3"
  },
  "language_info": {
   "codemirror_mode": {
    "name": "ipython",
    "version": 3
   },
   "file_extension": ".py",
   "mimetype": "text/x-python",
   "name": "python",
   "nbconvert_exporter": "python",
   "pygments_lexer": "ipython3",
   "version": "3.6.8"
  }
 },
 "nbformat": 4,
 "nbformat_minor": 2
}
